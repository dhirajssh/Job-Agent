{
 "cells": [
  {
   "cell_type": "code",
   "execution_count": 2,
   "id": "a28f1134",
   "metadata": {},
   "outputs": [],
   "source": [
    "import requests\n",
    "import json\n",
    "from langchain_openai import ChatOpenAI\n",
    "import os\n",
    "from pydantic import BaseModel\n",
    "from typing import List, Dict, Any\n",
    "from langchain_core.prompts import ChatPromptTemplate\n",
    "import os\n",
    "import pathlib\n",
    "from bs4 import BeautifulSoup\n",
    "import re\n",
    "from bs4 import BeautifulSoup\n",
    "import re\n",
    "from langchain_openai import ChatOpenAI\n",
    "from pydantic import Field\n",
    "from typing import Literal\n",
    "from typing import Annotated\n",
    "from typing_extensions import TypedDict\n",
    "from langgraph.graph import StateGraph, START, END\n",
    "from langgraph.graph.message import add_messages\n",
    "from langchain.schema import HumanMessage, AIMessage\n",
    "from __future__ import print_function\n",
    "import sib_api_v3_sdk\n",
    "from sib_api_v3_sdk.rest import ApiException\n",
    "from IPython.display import Markdown, display"
   ]
  },
  {
   "cell_type": "code",
   "execution_count": null,
   "id": "c423863f",
   "metadata": {},
   "outputs": [],
   "source": [
    "with open(\".env\", \"r\") as f:\n",
    "  for line in f:\n",
    "    key, value = line.strip().split(\"=\")\n",
    "    os.environ[key] = value\n"
   ]
  },
  {
   "cell_type": "code",
   "execution_count": 4,
   "id": "9b02cf5e",
   "metadata": {},
   "outputs": [],
   "source": [
    "search_terms = [\"Software Engineer New Grad\", \"Entry level Software Engineer\", \"University Graduate Software Engineer\", \"Junior Software Developer\", \"AI automation Engineer\"]"
   ]
  },
  {
   "cell_type": "code",
   "execution_count": null,
   "id": "96693fe0",
   "metadata": {},
   "outputs": [
    {
     "ename": "KeyError",
     "evalue": "'message'",
     "output_type": "error",
     "traceback": [
      "\u001b[31m---------------------------------------------------------------------------\u001b[39m",
      "\u001b[31mKeyError\u001b[39m                                  Traceback (most recent call last)",
      "\u001b[36mCell\u001b[39m\u001b[36m \u001b[39m\u001b[32mIn[12]\u001b[39m\u001b[32m, line 56\u001b[39m\n\u001b[32m     54\u001b[39m relevant_results = []\n\u001b[32m     55\u001b[39m \u001b[38;5;28;01mfor\u001b[39;00m search_term \u001b[38;5;129;01min\u001b[39;00m search_terms:\n\u001b[32m---> \u001b[39m\u001b[32m56\u001b[39m   python_results = \u001b[43msearch_serper\u001b[49m\u001b[43m(\u001b[49m\u001b[43msearch_term\u001b[49m\u001b[43m)\u001b[49m\n\u001b[32m     57\u001b[39m   results = check_search_relevance(python_results)\n\u001b[32m     59\u001b[39m   \u001b[38;5;66;03m# Get the relevant result IDs from the LLM output\u001b[39;00m\n",
      "\u001b[36mCell\u001b[39m\u001b[36m \u001b[39m\u001b[32mIn[12]\u001b[39m\u001b[32m, line 25\u001b[39m, in \u001b[36msearch_serper\u001b[39m\u001b[34m(search_query)\u001b[39m\n\u001b[32m     23\u001b[39m response = requests.request(\u001b[33m\"\u001b[39m\u001b[33mPOST\u001b[39m\u001b[33m\"\u001b[39m, url, headers=headers, data=payload)\n\u001b[32m     24\u001b[39m results = json.loads(response.text)\n\u001b[32m---> \u001b[39m\u001b[32m25\u001b[39m \u001b[38;5;28mprint\u001b[39m(\u001b[43mresults\u001b[49m\u001b[43m[\u001b[49m\u001b[33;43m'\u001b[39;49m\u001b[33;43mmessage\u001b[39;49m\u001b[33;43m'\u001b[39;49m\u001b[43m]\u001b[49m)\n\u001b[32m     26\u001b[39m results_list = results[\u001b[33m'\u001b[39m\u001b[33morganic\u001b[39m\u001b[33m'\u001b[39m]\n\u001b[32m     28\u001b[39m all_results = []\n",
      "\u001b[31mKeyError\u001b[39m: 'message'"
     ]
    }
   ],
   "source": [
    "class ResultRelevance(BaseModel):\n",
    "  explanation: str\n",
    "  id: str\n",
    "\n",
    "class RelevanceCheckOutput(BaseModel):\n",
    "  relevant_results: List[ResultRelevance]\n",
    "\n",
    "def search_serper(search_query):\n",
    "  url = \"https://google.serper.dev/search\"\n",
    "    \n",
    "  payload = json.dumps({\n",
    "    \"q\": search_query,\n",
    "    \"gl\": \"gb\", \n",
    "    \"num\": 30,\n",
    "    \"tbs\": \"qdr:d\"\n",
    "  })\n",
    "\n",
    "  headers = {\n",
    "    'X-API-KEY': '0130e7da8283ec8a8d9721c6c38a97d557867923',\n",
    "    'Content-Type': 'application/json'\n",
    "  }\n",
    "\n",
    "  response = requests.request(\"POST\", url, headers=headers, data=payload)\n",
    "  results = json.loads(response.text)\n",
    "  results_list = results['organic']\n",
    "\n",
    "  all_results = []\n",
    "  for id, result in enumerate(results_list, 1):\n",
    "    result_dict = {\n",
    "      'title': result['title'],\n",
    "      'link': result['link'],\n",
    "      'snippet': result['snippet'],\n",
    "      'search_term': search_query,\n",
    "      'id': id\n",
    "    }\n",
    "    all_results.append(result_dict)\n",
    "  return all_results\n",
    "\n",
    "def load_prompt(prompt_name):\n",
    "  with open(f\"prompts/{prompt_name}.md\", \"r\") as file:\n",
    "    return file.read()\n",
    "  \n",
    "def check_search_relevance(search_results: Dict[str, Any]) -> RelevanceCheckOutput:\n",
    "  prompt = load_prompt(\"relevance_check\")\n",
    "  prompt_template = ChatPromptTemplate.from_messages(\n",
    "    (\"system_prompt\", prompt)\n",
    "  )\n",
    "\n",
    "  llm = ChatOpenAI(model=\"gpt-4o\").with_structured_output(RelevanceCheckOutput)\n",
    "  llm_chain = prompt_template | llm\n",
    "  return llm_chain.invoke({'input_search_results': search_results})\n",
    "\n",
    "relevant_results = []\n",
    "for search_term in search_terms:\n",
    "  python_results = search_serper(search_term)\n",
    "  results = check_search_relevance(python_results)\n",
    "  \n",
    "  # Get the relevant result IDs from the LLM output\n",
    "  relevant_ids = [r.id for r in results.relevant_results]\n",
    "  \n",
    "  # Filter original results to only include those with matching IDs\n",
    "  filtered_results = [r for r in python_results if str(r['id']) in relevant_ids]\n",
    "  \n",
    "  relevant_results.extend(filtered_results)"
   ]
  },
  {
   "cell_type": "code",
   "execution_count": null,
   "id": "a0c2bb69",
   "metadata": {},
   "outputs": [],
   "source": []
  }
 ],
 "metadata": {
  "kernelspec": {
   "display_name": "myenv",
   "language": "python",
   "name": "python3"
  },
  "language_info": {
   "codemirror_mode": {
    "name": "ipython",
    "version": 3
   },
   "file_extension": ".py",
   "mimetype": "text/x-python",
   "name": "python",
   "nbconvert_exporter": "python",
   "pygments_lexer": "ipython3",
   "version": "3.12.0"
  }
 },
 "nbformat": 4,
 "nbformat_minor": 5
}
